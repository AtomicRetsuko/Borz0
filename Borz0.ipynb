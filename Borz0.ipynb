{
 "cells": [
  {
   "cell_type": "markdown",
   "metadata": {},
   "source": [
    "## Borz0 1.2.0"
   ]
  },
  {
   "cell_type": "markdown",
   "metadata": {},
   "source": [
    "## Initializing :"
   ]
  },
  {
   "cell_type": "code",
   "execution_count": 2,
   "metadata": {},
   "outputs": [
    {
     "name": "stdout",
     "output_type": "stream",
     "text": [
      "Pandas version : 2.2.3\n",
      "PySpark version : 3.5.4\n"
     ]
    }
   ],
   "source": [
    "#Importing the os, Spark in Python 3.12.7 and Checking the Version :\n",
    "import os\n",
    "from IPython.display import clear_output\n",
    "import pandas as Pada\n",
    "import pyspark\n",
    "from pyspark.sql import SparkSession\n",
    "from pyspark.sql.functions import col, desc\n",
    "print(\"Pandas version :\", Pada.__version__)\n",
    "print(\"PySpark version :\", pyspark.__version__)"
   ]
  },
  {
   "cell_type": "markdown",
   "metadata": {},
   "source": [
    "##  Starting Borz0 1.2.0 :"
   ]
  },
  {
   "cell_type": "code",
   "execution_count": 3,
   "metadata": {},
   "outputs": [
    {
     "name": "stderr",
     "output_type": "stream",
     "text": [
      "25/02/27 11:03:33 WARN Utils: Your hostname, Juless-MacBook-Pro.local resolves to a loopback address: 127.0.0.1; using 10.118.7.34 instead (on interface en0)\n",
      "25/02/27 11:03:33 WARN Utils: Set SPARK_LOCAL_IP if you need to bind to another address\n",
      "Setting default log level to \"WARN\".\n",
      "To adjust logging level use sc.setLogLevel(newLevel). For SparkR, use setLogLevel(newLevel).\n",
      "25/02/27 11:03:33 WARN NativeCodeLoader: Unable to load native-hadoop library for your platform... using builtin-java classes where applicable\n"
     ]
    },
    {
     "name": "stdout",
     "output_type": "stream",
     "text": [
      "Spark session created successfully!\n"
     ]
    }
   ],
   "source": [
    "#Build the ETL PipeLine\n",
    "os.environ[\"JAVA_HOME\"] = \"/opt/homebrew/opt/openjdk@11\"\n",
    "\n",
    "spark = SparkSession.builder \\\n",
    "    .appName(\"Simple Test\") \\\n",
    "    .master(\"local[*]\") \\\n",
    "    .getOrCreate()\n",
    "\n",
    "print(\"Spark session created successfully!\")"
   ]
  },
  {
   "cell_type": "markdown",
   "metadata": {},
   "source": [
    "## Load Data :"
   ]
  },
  {
   "cell_type": "code",
   "execution_count": 7,
   "metadata": {},
   "outputs": [
    {
     "name": "stdout",
     "output_type": "stream",
     "text": [
      "DogData.csv exists in the current directory and will be loaded\n"
     ]
    }
   ],
   "source": [
    "#Ask User for the Data they want to use, and then load it after checking it exists:\n",
    "while True:\n",
    "    data_loaded = input(\"Please enter the Data you want to Load : \")\n",
    "    if os.path.isfile(data_loaded):\n",
    "        print(f\"{data_loaded} exists in the current directory and will be loaded\")\n",
    "        break\n",
    "    else:\n",
    "        print(f\"Fatal Error, {data_loaded} does not exist in the directory\")"
   ]
  },
  {
   "cell_type": "code",
   "execution_count": 6,
   "metadata": {},
   "outputs": [
    {
     "name": "stdout",
     "output_type": "stream",
     "text": [
      "+---------+-----------------------------------+-------+-------+------+\n",
      "|name     |breed                              |weight |height | price|\n",
      "+---------+-----------------------------------+-------+-------+------+\n",
      "|Borzo    |               Borzoi           ...|   35.0|  100.0|5000.0|\n",
      "|Max      |               Cocker           ...|   28.0|   70.0| 200.0|\n",
      "|Borzo    |               Borzoi           ...|   35.0|  100.0| 500.0|\n",
      "|Max      |               Cocker           ...|   28.0|   70.0| 200.0|\n",
      "|Buddy    |               Labrador         ...|   70.0|   60.0| 300.0|\n",
      "|Daisy    |               Golden Retriever ...|   65.0|   58.0| 350.0|\n",
      "|Charlie  |               Beagle           ...|   22.0|   38.0| 150.0|\n",
      "|Lucy     |               German Shepherd  ...|   75.0|   63.0| 400.0|\n",
      "|Cooper   |               Bulldog          ...|   50.0|   50.0| 250.0|\n",
      "|Sadie    |               Poodle           ...|   55.0|   45.0| 275.0|\n",
      "+---------+-----------------------------------+-------+-------+------+\n",
      "only showing top 10 rows\n",
      "\n"
     ]
    }
   ],
   "source": [
    "#Visualizing the Data\n",
    "file_path = data_loaded\n",
    "howMany_shown = int(input(\"Please enter how many rows you want to display\"))\n",
    "df_spark = spark.read.csv(file_path, header=True, inferSchema=True)\n",
    "df_spark.show(howMany_shown)"
   ]
  },
  {
   "cell_type": "markdown",
   "metadata": {},
   "source": [
    "## Identifying the Parameters"
   ]
  },
  {
   "cell_type": "code",
   "execution_count": 12,
   "metadata": {},
   "outputs": [
    {
     "name": "stdout",
     "output_type": "stream",
     "text": [
      "root\n",
      " |-- name: string (nullable = true)\n",
      " |-- lastname: string (nullable = true)\n",
      " |-- email: string (nullable = true)\n",
      " |-- phone: string (nullable = true)\n",
      " |-- address: string (nullable = true)\n",
      " |-- balance: double (nullable = true)\n",
      " |-- credit_nb: integer (nullable = true)\n",
      " |-- MS: string (nullable = true)\n",
      " |-- CS: integer (nullable = true)\n",
      "\n"
     ]
    }
   ],
   "source": [
    "df_spark.printSchema()"
   ]
  },
  {
   "cell_type": "markdown",
   "metadata": {},
   "source": [
    "## Ordering Data with Parameter :"
   ]
  },
  {
   "cell_type": "code",
   "execution_count": 8,
   "metadata": {},
   "outputs": [
    {
     "name": "stdout",
     "output_type": "stream",
     "text": [
      "Data sorted by using price as the reference\n",
      "+---------+-----------------------------------+-------+-------+------+\n",
      "|name     |breed                              |weight |height | price|\n",
      "+---------+-----------------------------------+-------+-------+------+\n",
      "|Borzo    |               Borzoi           ...|   35.0|  100.0|5000.0|\n",
      "|Apollo   |               Mastiff          ...|  200.0|   76.0| 800.0|\n",
      "|Ursula   |               Mastiff          ...|  200.0|   76.0| 800.0|\n",
      "|Alice    |               Neapolitan Mastif...|  150.0|   70.0| 800.0|\n",
      "|Bear     |               Great Dane       ...|  175.0|   80.0| 700.0|\n",
      "|Penny    |               Chihuahua        ...|    6.0|   15.0| 700.0|\n",
      "|Zeus     |               Pyrenean Mastiff ...|  150.0|   75.0| 700.0|\n",
      "|Katie    |               Scottish Deerhoun...|  110.0|   76.0| 700.0|\n",
      "|Yara     |               Spanish Mastiff  ...|  180.0|   75.0| 700.0|\n",
      "|Shadow   |               Newfoundland     ...|  150.0|   70.0| 675.0|\n",
      "|Vinnie   |               Ibizan Hound     ...|   50.0|   68.0| 675.0|\n",
      "|Jack     |               Tibetan Mastiff  ...|  120.0|   70.0| 675.0|\n",
      "|Jake     |               Boerboel         ...|  150.0|   70.0| 675.0|\n",
      "|Jett     |               Portuguese Water ...|   55.0|   50.0| 675.0|\n",
      "|Zeus     |               Berger Picard    ...|   60.0|   65.0| 675.0|\n",
      "|Bob      |               Newfoundland     ...|  150.0|   70.0| 675.0|\n",
      "|Wendy    |               Portuguese Water ...|   55.0|   50.0| 675.0|\n",
      "|Frank    |               Tibetan Mastiff  ...|  120.0|   70.0| 675.0|\n",
      "|Oliver   |               Bernese Mountain ...|  110.0|   70.0| 650.0|\n",
      "|Kiki     |               Japanese Chin    ...|    7.0|   20.0| 650.0|\n",
      "+---------+-----------------------------------+-------+-------+------+\n",
      "only showing top 20 rows\n",
      "\n"
     ]
    }
   ],
   "source": [
    "#Order Data With a parametter\n",
    "while True:\n",
    "    parameter = input(\"Please enter the Parameter to use for Sorting the Data\")\n",
    "    clear_output(wait=True)\n",
    "    if parameter in df_spark.columns:\n",
    "        break\n",
    "    else:\n",
    "        print(\"Error, this parameter doesnt exist in\")\n",
    "\n",
    "howMany_shown = int(input(\"Please enter how many rows you want to display\"))\n",
    "sorted_df = df_spark.orderBy(desc(parameter))\n",
    "print(f\"Data sorted by using {parameter} as the reference\")\n",
    "if parameter not in df_spark.columns:\n",
    "    raise ValueError(f\"Column '{parameter}' does not exist in the DataFrame.\")\n",
    "sorted_df.show(howMany_shown)"
   ]
  },
  {
   "cell_type": "markdown",
   "metadata": {},
   "source": [
    "## Create a folder and Store the Data into it :"
   ]
  },
  {
   "cell_type": "code",
   "execution_count": null,
   "metadata": {},
   "outputs": [],
   "source": [
    "#Creating the file and naming it\n",
    "fldr_name = input(\"Please enter a name for the Folder\")\n",
    "sorted_df.coalesce(1).write.csv(fldr_name, header=False, mode='overwrite')\n"
   ]
  },
  {
   "cell_type": "markdown",
   "metadata": {},
   "source": [
    "## Stopping Borz0 :"
   ]
  },
  {
   "cell_type": "code",
   "execution_count": 9,
   "metadata": {},
   "outputs": [
    {
     "name": "stdout",
     "output_type": "stream",
     "text": [
      "Spark successfully stopped\n"
     ]
    }
   ],
   "source": [
    "#Stopping the ETL Pipeline to release memory and ressources\n",
    "spark.stop()\n",
    "#Checking if Spark is stoppped\n",
    "try:\n",
    "    if spark.sparkContext._jsc is None:\n",
    "        print(\"Spark successfully stopped\")\n",
    "    else:\n",
    "        print(\"Error: Spark is not stopped\")\n",
    "#if the upper part did not work :\n",
    "except AttributeError:\n",
    "    print(\"Spark successfully stopped\")"
   ]
  }
 ],
 "metadata": {
  "kernelspec": {
   "display_name": "Python 3",
   "language": "python",
   "name": "python3"
  },
  "language_info": {
   "codemirror_mode": {
    "name": "ipython",
    "version": 3
   },
   "file_extension": ".py",
   "mimetype": "text/x-python",
   "name": "python",
   "nbconvert_exporter": "python",
   "pygments_lexer": "ipython3",
   "version": "3.12.7"
  }
 },
 "nbformat": 4,
 "nbformat_minor": 2
}
