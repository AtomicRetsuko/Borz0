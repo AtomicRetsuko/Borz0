{
 "cells": [
  {
   "cell_type": "markdown",
   "metadata": {},
   "source": [
    "## Borz0 1.2.0"
   ]
  },
  {
   "cell_type": "markdown",
   "metadata": {},
   "source": [
    "## Initializing :"
   ]
  },
  {
   "cell_type": "code",
   "execution_count": 2,
   "metadata": {},
   "outputs": [
    {
     "name": "stdout",
     "output_type": "stream",
     "text": [
      "IPython version :\n",
      "Pandas version :\n",
      "PySpark version : 3.5.4\n"
     ]
    }
   ],
   "source": [
    "#Importing the os, Spark in Python 3.12.7 and Checking the Version :\n",
    "import os\n",
    "from IPython.display import clear_output\n",
    "import pandas as Pada\n",
    "import pyspark\n",
    "from pyspark.sql import SparkSession\n",
    "from pyspark.sql.functions import col, desc\n",
    "print(\"IPython version :\")\n",
    "print(\"Pandas version :\")\n",
    "print(\"PySpark version :\", pyspark.__version__)"
   ]
  },
  {
   "cell_type": "markdown",
   "metadata": {},
   "source": [
    "##  Starting Borz0 1.2.0 :"
   ]
  },
  {
   "cell_type": "code",
   "execution_count": 3,
   "metadata": {},
   "outputs": [
    {
     "name": "stderr",
     "output_type": "stream",
     "text": [
      "25/02/27 09:28:15 WARN Utils: Your hostname, Juless-MacBook-Pro.local resolves to a loopback address: 127.0.0.1; using 10.118.7.34 instead (on interface en0)\n",
      "25/02/27 09:28:15 WARN Utils: Set SPARK_LOCAL_IP if you need to bind to another address\n",
      "Setting default log level to \"WARN\".\n",
      "To adjust logging level use sc.setLogLevel(newLevel). For SparkR, use setLogLevel(newLevel).\n",
      "25/02/27 09:28:16 WARN NativeCodeLoader: Unable to load native-hadoop library for your platform... using builtin-java classes where applicable\n"
     ]
    },
    {
     "name": "stdout",
     "output_type": "stream",
     "text": [
      "Spark session created successfully!\n"
     ]
    }
   ],
   "source": [
    "#Build the ETL PipeLine\n",
    "os.environ[\"JAVA_HOME\"] = \"/opt/homebrew/opt/openjdk@11\"\n",
    "\n",
    "spark = SparkSession.builder \\\n",
    "    .appName(\"Simple Test\") \\\n",
    "    .master(\"local[*]\") \\\n",
    "    .getOrCreate()\n",
    "\n",
    "print(\"Spark session created successfully!\")"
   ]
  },
  {
   "cell_type": "markdown",
   "metadata": {},
   "source": [
    "## Load Data :"
   ]
  },
  {
   "cell_type": "code",
   "execution_count": 4,
   "metadata": {},
   "outputs": [
    {
     "name": "stdout",
     "output_type": "stream",
     "text": [
      "RealestateData.csv exists in the current directory and will be loaded\n"
     ]
    }
   ],
   "source": [
    "#Ask User for the Data they want to use, and then load it after checking it exists:\n",
    "while True:\n",
    "    data_loaded = input(\"Please enter the Data you want to Load : \")\n",
    "    if os.path.isfile(data_loaded):\n",
    "        print(f\"{data_loaded} exists in the current directory and will be loaded\")\n",
    "        break\n",
    "    else:\n",
    "        print(f\"Fatal Error, {data_loaded} does not exist in the directory\")"
   ]
  },
  {
   "cell_type": "code",
   "execution_count": 5,
   "metadata": {},
   "outputs": [
    {
     "name": "stdout",
     "output_type": "stream",
     "text": [
      "+-------------------+--------------------+----------+-----+-----------+------+-----+-----+--------------+---------+---------+\n",
      "|               name|             address|      city|state|surfaceArea|  year|bth_r|bed_r|      hometype|sale/rent|    price|\n",
      "+-------------------+--------------------+----------+-----+-----------+------+-----+-----+--------------+---------+---------+\n",
      "|    Michael's house|3671 Whispymound ...|Los Santos|   CA|   5000sqft|2001.0|  2.0|  4.0|         house|     sale|8000000.0|\n",
      "|     M. Wolf's flat|  21 Hangover Street| FableTown|   NY|    300sqft|1961.0|  1.0|  1.0|     apartment|     rent|   1208.0|\n",
      "|  McCallister House|    88 Ladylay Drive|   Chicago|   IL|   2000sqft|1952.0|  4.0|  8.0|         house|     sale|4266252.0|\n",
      "|Adams ContainerHome|  36 Industrial Road|   Oakland|   CA|    600sqft|2023.0|  1.0|  1.0|container home|     rent|   1600.0|\n",
      "|  Carter Lighthouse|  37 Cliffside Drive| Cape Town|   CA|   1300sqft|1975.0|  2.0|  3.0|    lighthouse|     sale|1250000.0|\n",
      "|   Evans EarthHouse|38 Green Valley Road| Asheville|   NC|    900sqft|2005.0|  1.0|  2.0|   earth house|     sale| 750000.0|\n",
      "|    Foster Monastry|    39 Serenity Lane|     Kyoto|   JP|   2000sqft|1600.0|  3.0|  5.0|     monastery|     sale|9000000.0|\n",
      "|        Gray Teepee|    40 Plains Avenue|  Santa Fe|   NM|    300sqft|2021.0|  1.0|  1.0|        teepee|     rent|    800.0|\n",
      "|  Howard Skyscraper| 41 Financial Street| Hong Kong|   NY|   4000sqft|2017.0|  5.0|  6.0|    skyscraper|     rent|   6000.0|\n",
      "|    Irwin Boathouse|    42 Lakeside Road|    Geneva|   CH|    800sqft|2010.0|  2.0|  2.0|     boathouse|     sale|1100000.0|\n",
      "+-------------------+--------------------+----------+-----+-----------+------+-----+-----+--------------+---------+---------+\n",
      "only showing top 10 rows\n",
      "\n"
     ]
    }
   ],
   "source": [
    "#Visualizing the Data\n",
    "file_path = data_loaded\n",
    "howMany_shown = int(input(\"Please enter how many rows you want to display\"))\n",
    "df_spark = spark.read.csv(file_path, header=True, inferSchema=True)\n",
    "df_spark.show(howMany_shown)"
   ]
  },
  {
   "cell_type": "markdown",
   "metadata": {},
   "source": [
    "## Identifying the Parameters"
   ]
  },
  {
   "cell_type": "code",
   "execution_count": 39,
   "metadata": {},
   "outputs": [
    {
     "name": "stdout",
     "output_type": "stream",
     "text": [
      "root\n",
      " |-- name: string (nullable = true)\n",
      " |-- address: string (nullable = true)\n",
      " |-- city: string (nullable = true)\n",
      " |-- state: string (nullable = true)\n",
      " |-- surfaceArea: string (nullable = true)\n",
      " |-- year: double (nullable = true)\n",
      " |-- bth_r: double (nullable = true)\n",
      " |-- bed_r: double (nullable = true)\n",
      " |-- hometype: string (nullable = true)\n",
      " |-- sale/rent: string (nullable = true)\n",
      " |-- price: double (nullable = true)\n",
      "\n"
     ]
    }
   ],
   "source": [
    "df_spark.printSchema()"
   ]
  },
  {
   "cell_type": "markdown",
   "metadata": {},
   "source": [
    "## Ordering Data with Parameter :"
   ]
  },
  {
   "cell_type": "code",
   "execution_count": 9,
   "metadata": {},
   "outputs": [
    {
     "name": "stdout",
     "output_type": "stream",
     "text": [
      "Data sorted by using hometype as the reference\n",
      "+--------------------+--------------------+-----------+-----+-----------+------+-----+-----+------------+---------+---------+\n",
      "|                name|             address|       city|state|surfaceArea|  year|bth_r|bed_r|    hometype|sale/rent|    price|\n",
      "+--------------------+--------------------+-----------+-----+-----------+------+-----+-----+------------+---------+---------+\n",
      "|       Mitchell Yurt|     46 Prairie Road|    Bozeman|   MT|    400sqft|2022.0|  1.0|  1.0|        yurt|     rent|    950.0|\n",
      "|        Carlson Yurt|62 Prairie View Road|   Billings|   MT|    450sqft|2023.0|  1.0|  1.0|        yurt|     rent|   1000.0|\n",
      "|         Harris Yurt|      21 Desert Road|    Phoenix|   AZ|    300sqft|2023.0|  1.0|  1.0|        yurt|     rent|    900.0|\n",
      "|         Smith Villa|   11 Palm Tree Blvd|Los Angeles|   CA|   3500sqft|2010.0|  4.0|  5.0|       villa|     sale|3000000.0|\n",
      "|     Jones Treehouse|      43 Canopy Road| Costa Rica|   CR|    400sqft|2024.0|  1.0|  1.0|   treehouse|     rent|   1400.0|\n",
      "| Zimmerman Treehouse|     59 Jungle Trail|       Bali|   ID|    450sqft|2025.0|  1.0|  1.0|   treehouse|     rent|   1500.0|\n",
      "|     Clark Treehouse|     24 Forest Trail|   Portland|   OR|    500sqft|2017.0|  1.0|  1.0|   treehouse|     rent|   1300.0|\n",
      "|        Long Trailer|         45 Route 66|Albuquerque|   NM|    600sqft|1990.0|  1.0|  1.0|     trailer|     rent|    650.0|\n",
      "|      Bailey Trailer|    61 Interstate 10|     Tucson|   AZ|    650sqft|2000.0|  1.0|  1.0|     trailer|     rent|    700.0|\n",
      "|       Allen Trailer|     29 Highway Road|  Las Vegas|   NV|    500sqft|1980.0|  1.0|  1.0|     trailer|     rent|    600.0|\n",
      "|    Garcia Townhouse|      7 Maple Street|   New York|   NY|   1500sqft|2008.0|  2.0|  3.0|   townhouse|     sale|1800000.0|\n",
      "|          Perez Tent|       27 Field Lane|     Austin|   TX|    100sqft|2021.0|  1.0|  0.0|        tent|     rent|    300.0|\n",
      "|         Gray Teepee|    40 Plains Avenue|   Santa Fe|   NM|    300sqft|2021.0|  1.0|  1.0|      teepee|     rent|    800.0|\n",
      "|       Wright Teepee|      56 Desert Road|  Flagstaff|   AZ|    350sqft|2022.0|  1.0|  1.0|      teepee|     rent|    850.0|\n",
      "|       Taylor Studio|       16 Art Street|       Rome|   IT|    400sqft|2022.0|  1.0|  0.0|      studio|     rent|   1100.0|\n",
      "|   Howard Skyscraper| 41 Financial Street|  Hong Kong|   NY|   4000sqft|2017.0|  5.0|  6.0|  skyscraper|     rent|   6000.0|\n",
      "|   Xavier Skyscraper|57 Avenue of the ...|  Singapore|   SG|   4200sqft|2018.0|  5.0|  6.0|  skyscraper|     rent|   6500.0|\n",
      "|     King Skyscraper| 30 High Rise Street|   Shanghai|   CN|   3000sqft|2015.0|  4.0|  4.0|  skyscraper|     rent|   5000.0|\n",
      "|      White Rowhouse| 20 Cobblestone Path|     Boston|   MA|   1600sqft|1920.0|  2.0|  3.0|    rowhouse|     sale| 950000.0|\n",
      "|     Moore Penthouse|    18 Sky High Lane|      Dubai|   AE|   2000sqft|2019.0|  3.0|  3.0|   penthouse|     rent|   4000.0|\n",
      "|     Foster Monastry|    39 Serenity Lane|      Kyoto|   JP|   2000sqft|1600.0|  3.0|  5.0|   monastery|     sale|9000000.0|\n",
      "|      Vega Monastery|    55 Mountain Path|  Kathmandu|   NP|   2200sqft|1700.0|  3.0|  5.0|   monastery|     sale|9500000.0|\n",
      "|    Anderson Mansion|        15 Grand Ave|      Paris|   FR|   6000sqft|1890.0|  5.0|  6.0|     mansion|     sale|    1.0E7|\n",
      "|         Wilson Loft|       13 Brick Lane|     Berlin|   DE|   1000sqft|2018.0|  2.0|  2.0|        loft|     rent|   2200.0|\n",
      "|   Carter Lighthouse|  37 Cliffside Drive|  Cape Town|   CA|   1300sqft|1975.0|  2.0|  3.0|  lighthouse|     sale|1250000.0|\n",
      "|   Thomas Lighthouse|  53 Coastal Highway|  Galveston|   TX|   1400sqft|1980.0|  2.0|  3.0|  lighthouse|     sale|1300000.0|\n",
      "|    Young Lighthouse|     28 Coastal Path|     Sydney|   AU|   1200sqft|1960.0|  2.0|  2.0|  lighthouse|     sale|1100000.0|\n",
      "|         Perry Igloo|    49 Arctic Circle|  Reykjavik|   IS|    300sqft|2023.0|  1.0|  1.0|       igloo|     rent|    600.0|\n",
      "|      Thompson Igloo|      23 Iceberg Way|  Anchorage|   AK|    200sqft|2024.0|  1.0|  1.0|       igloo|     rent|    500.0|\n",
      "|         Lopez Igloo| 32 Frozen Lake Road|     Quebec|   CA|    250sqft|2022.0|  1.0|  1.0|       igloo|     rent|    550.0|\n",
      "|     Quinn houseboat|     50 Canal Street|  Amsterdam|   NL|    800sqft|2015.0|  2.0|  2.0|   houseboat|     rent|   1800.0|\n",
      "|     Green Houseboat|     34 Canal Street|     Venice|   IT|    700sqft|2012.0|  2.0|  2.0|   houseboat|     rent|   1700.0|\n",
      "|     Michael's house|3671 Whispymound ...| Los Santos|   CA|   5000sqft|2001.0|  2.0|  4.0|       house|     sale|8000000.0|\n",
      "|   McCallister House|    88 Ladylay Drive|    Chicago|   IL|   2000sqft|1952.0|  4.0|  8.0|       house|     sale|4266252.0|\n",
      "|   Owens HobbitHouse|       48 Shire Lane| Queenstown|   NZ|    500sqft|2019.0|  1.0|  1.0|hobbit house|     rent|   1450.0|\n",
      "| Edwards HobbitHouse|    64 Hobbiton Road|   Matamata|   NZ|    550sqft|2020.0|  1.0|  1.0|hobbit house|     rent|   1500.0|\n",
      "|  Baker Hobbit House| 35 Underground Lane| Wellington|   NZ|    400sqft|2018.0|  1.0|  1.0|hobbit house|     rent|   1400.0|\n",
      "|     Brown Farmhouse|   10 Sunflower Road|Kansas City|   MO|   2500sqft|1930.0|  3.0|  4.0|   farmhouse|     sale| 650000.0|\n",
      "|    Evans EarthHouse|38 Green Valley Road|  Asheville|   NC|    900sqft|2005.0|  1.0|  2.0| earth house|     sale| 750000.0|\n",
      "|Underwood EarthHouse|     54 Forest Drive|    Boulder|   CO|   1000sqft|2007.0|  1.0|  2.0| earth house|     sale| 800000.0|\n",
      "|       Thomas Duplex|       17 Oak Street|    Seattle|   WA|   1800sqft|2005.0|  2.0|  3.0|      duplex|     sale|1200000.0|\n",
      "|         Nelson Dome|     47 Hilltop Road|       Taos|   NM|    700sqft|2000.0|  1.0|  2.0|        dome|     sale| 650000.0|\n",
      "|       Davidson Dome|    63 Hillside Road|     Sedona|   AZ|    750sqft|2005.0|  1.0|  2.0|        dome|     sale| 700000.0|\n",
      "|           Hill Dome|33 Desert Hills Road|   Santa Fe|   NM|    800sqft|2000.0|  1.0|  2.0|        dome|     sale| 600000.0|\n",
      "|     Johnson Cottage|     4 Pinecone Path|      Aspen|   CO|   1200sqft|1985.0|  2.0|  3.0|     cottage|     sale| 900000.0|\n",
      "+--------------------+--------------------+-----------+-----+-----------+------+-----+-----+------------+---------+---------+\n",
      "only showing top 45 rows\n",
      "\n"
     ]
    }
   ],
   "source": [
    "#Order Data With a parametter\n",
    "while True:\n",
    "    parameter = input(\"Please enter the Parameter to use for Sorting the Data\")\n",
    "    clear_output(wait=True)\n",
    "    if parameter in df_spark.columns:\n",
    "        break\n",
    "    else:\n",
    "        print(\"Error, this parameter doesnt exist in\")\n",
    "\n",
    "howMany_shown = int(input(\"Please enter how many rows you want to display\"))\n",
    "sorted_df = df_spark.orderBy(desc(parameter))\n",
    "print(f\"Data sorted by using {parameter} as the reference\")\n",
    "if parameter not in df_spark.columns:\n",
    "    raise ValueError(f\"Column '{parameter}' does not exist in the DataFrame.\")\n",
    "sorted_df.show(howMany_shown)"
   ]
  },
  {
   "cell_type": "markdown",
   "metadata": {},
   "source": [
    "## Create a folder and Store the Data into it :"
   ]
  },
  {
   "cell_type": "code",
   "execution_count": 7,
   "metadata": {},
   "outputs": [],
   "source": [
    "#Creating the file and naming it\n",
    "fldr_name = input(\"Please enter a name for the Folder\")\n",
    "sorted_df.coalesce(1).write.csv(fldr_name, header=False, mode='overwrite')\n"
   ]
  },
  {
   "cell_type": "markdown",
   "metadata": {},
   "source": [
    "## Stopping Borz0 :"
   ]
  },
  {
   "cell_type": "code",
   "execution_count": 8,
   "metadata": {},
   "outputs": [
    {
     "name": "stdout",
     "output_type": "stream",
     "text": [
      "Spark successfully stopped\n"
     ]
    }
   ],
   "source": [
    "#Stopping the ETL Pipeline to release memory and ressources\n",
    "spark.stop()\n",
    "#Checking if Spark is stoppped\n",
    "try:\n",
    "    if spark.sparkContext._jsc is None:\n",
    "        print(\"Spark successfully stopped\")\n",
    "    else:\n",
    "        print(\"Error: Spark is not stopped\")\n",
    "#if the upper part did not work :\n",
    "except AttributeError:\n",
    "    print(\"Spark successfully stopped\")"
   ]
  }
 ],
 "metadata": {
  "kernelspec": {
   "display_name": "Python 3",
   "language": "python",
   "name": "python3"
  },
  "language_info": {
   "codemirror_mode": {
    "name": "ipython",
    "version": 3
   },
   "file_extension": ".py",
   "mimetype": "text/x-python",
   "name": "python",
   "nbconvert_exporter": "python",
   "pygments_lexer": "ipython3",
   "version": "3.12.7"
  }
 },
 "nbformat": 4,
 "nbformat_minor": 2
}
