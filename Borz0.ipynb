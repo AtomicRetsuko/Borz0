{
 "cells": [
  {
   "cell_type": "markdown",
   "metadata": {},
   "source": [
    "## Borz0 1.2.0"
   ]
  },
  {
   "cell_type": "markdown",
   "metadata": {},
   "source": [
    "## Initializing :"
   ]
  },
  {
   "cell_type": "code",
   "execution_count": 17,
   "metadata": {},
   "outputs": [
    {
     "name": "stdout",
     "output_type": "stream",
     "text": [
      "PySpark version : 3.5.4\n"
     ]
    }
   ],
   "source": [
    "#Importing the os, Spark in Python 3.12.7 and Checking the Version :\n",
    "import os\n",
    "from IPython.display import clear_output\n",
    "import pandas as Pada\n",
    "import pyspark\n",
    "from pyspark.sql import SparkSession\n",
    "from pyspark.sql.functions import col, desc\n",
    "print(\"PySpark version :\", pyspark.__version__)"
   ]
  },
  {
   "cell_type": "markdown",
   "metadata": {},
   "source": [
    "##  Starting Borz0 1.2.0 :"
   ]
  },
  {
   "cell_type": "code",
   "execution_count": 18,
   "metadata": {},
   "outputs": [
    {
     "name": "stdout",
     "output_type": "stream",
     "text": [
      "Spark session created successfully!\n"
     ]
    }
   ],
   "source": [
    "#Build the ETL PipeLine\n",
    "from pyspark.sql import SparkSession\n",
    "\n",
    "os.environ[\"JAVA_HOME\"] = \"/opt/homebrew/opt/openjdk@11\"\n",
    "\n",
    "spark = SparkSession.builder \\\n",
    "    .appName(\"Simple Test\") \\\n",
    "    .master(\"local[*]\") \\\n",
    "    .getOrCreate()\n",
    "\n",
    "print(\"Spark session created successfully!\")"
   ]
  },
  {
   "cell_type": "markdown",
   "metadata": {},
   "source": [
    "## Load Data :"
   ]
  },
  {
   "cell_type": "code",
   "execution_count": 19,
   "metadata": {},
   "outputs": [
    {
     "name": "stdout",
     "output_type": "stream",
     "text": [
      "Fatal Error, hb does not exist in the directory\n",
      "Fatal Error, b does not exist in the directory\n",
      "DogData.csv exists in the current directory and will be loaded\n"
     ]
    }
   ],
   "source": [
    "#Ask User for the Data they want to use, and then load it after checking it exists:\n",
    "while True:\n",
    "    data_loaded = input(\"Please enter the Data you want to Load : \")\n",
    "    if os.path.isfile(data_loaded):\n",
    "        print(f\"{data_loaded} exists in the current directory and will be loaded\")\n",
    "        break\n",
    "    else:\n",
    "        print(f\"Fatal Error, {data_loaded} does not exist in the directory\")"
   ]
  },
  {
   "cell_type": "code",
   "execution_count": 20,
   "metadata": {},
   "outputs": [
    {
     "name": "stdout",
     "output_type": "stream",
     "text": [
      "+-------+----------------+------+------+-----+\n",
      "|   name|           breed|weight|height|price|\n",
      "+-------+----------------+------+------+-----+\n",
      "|  Borzo|          Borzoi|    35|   100| 5000|\n",
      "|    Max|          Cocker|    28|    70|  200|\n",
      "|  Borzo|          Borzoi|    35|   100|  500|\n",
      "|    Max|          Cocker|    28|    70|  200|\n",
      "|  Buddy|        Labrador|    70|    60|  300|\n",
      "|  Daisy|Golden Retriever|    65|    58|  350|\n",
      "|Charlie|          Beagle|    22|    38|  150|\n",
      "|   Lucy| German Shepherd|    75|    63|  400|\n",
      "| Cooper|         Bulldog|    50|    50|  250|\n",
      "|  Sadie|          Poodle|    55|    45|  275|\n",
      "+-------+----------------+------+------+-----+\n",
      "only showing top 10 rows\n",
      "\n"
     ]
    }
   ],
   "source": [
    "#Visualizing the Data\n",
    "file_path = data_loaded\n",
    "howMany_shown = int(input(\"Please enter how many rows you want to display\"))\n",
    "df_spark = spark.read.csv(file_path, header=True, inferSchema=True)\n",
    "df_spark.show(howMany_shown)"
   ]
  },
  {
   "cell_type": "markdown",
   "metadata": {},
   "source": [
    "## Ordering Data with Parameter :"
   ]
  },
  {
   "cell_type": "code",
   "execution_count": 21,
   "metadata": {},
   "outputs": [
    {
     "name": "stdout",
     "output_type": "stream",
     "text": [
      "Data sorted by using price as the reference\n",
      "+------+------------------+------+------+-----+\n",
      "|  name|             breed|weight|height|price|\n",
      "+------+------------------+------+------+-----+\n",
      "| Borzo|            Borzoi|    35|   100| 5000|\n",
      "|Apollo|           Mastiff|   200|    76|  800|\n",
      "|Ursula|           Mastiff|   200|    76|  800|\n",
      "| Alice|Neapolitan Mastiff|   150|    70|  800|\n",
      "|  Bear|        Great Dane|   175|    80|  700|\n",
      "| Penny|         Chihuahua|     6|    15|  700|\n",
      "|  Zeus|  Pyrenean Mastiff|   150|    75|  700|\n",
      "| Katie|Scottish Deerhound|   110|    76|  700|\n",
      "|  Yara|   Spanish Mastiff|   180|    75|  700|\n",
      "|Shadow|      Newfoundland|   150|    70|  675|\n",
      "+------+------------------+------+------+-----+\n",
      "only showing top 10 rows\n",
      "\n"
     ]
    }
   ],
   "source": [
    "#Order Data With a parametter\n",
    "while True:\n",
    "    parameter = input(\"Please enter the Parameter to use for Sorting the Data\")\n",
    "    clear_output(wait=True)\n",
    "    if parameter in df_spark.columns:\n",
    "        break\n",
    "    else:\n",
    "        print(\"Error, this parameter doesnt exist in\")\n",
    "\n",
    "howMany_shown = int(input(\"Please enter how many rows you want to display\"))\n",
    "sorted_df = df_spark.orderBy(desc(parameter))\n",
    "print(f\"Data sorted by using {parameter} as the reference\")\n",
    "if parameter not in df_spark.columns:\n",
    "    raise ValueError(f\"Column '{parameter}' does not exist in the DataFrame.\")\n",
    "sorted_df.show(howMany_shown)"
   ]
  },
  {
   "cell_type": "markdown",
   "metadata": {},
   "source": [
    "## Create a folder and Store the Data into it :"
   ]
  },
  {
   "cell_type": "code",
   "execution_count": 22,
   "metadata": {},
   "outputs": [],
   "source": [
    "#Creating the file and naming it\n",
    "fldr_name = input(\"Please enter a name for the Folder\")\n",
    "sorted_df.coalesce(1).write.csv(fldr_name, header=False, mode='overwrite')\n"
   ]
  },
  {
   "cell_type": "markdown",
   "metadata": {},
   "source": [
    "## Stopping Borz0 :"
   ]
  },
  {
   "cell_type": "code",
   "execution_count": 23,
   "metadata": {},
   "outputs": [
    {
     "name": "stdout",
     "output_type": "stream",
     "text": [
      "Spark successfully stopped\n"
     ]
    }
   ],
   "source": [
    "#Stopping the ETL Pipeline to release memory and ressources\n",
    "spark.stop()\n",
    "#Checking if Spark is stoppped\n",
    "try:\n",
    "    if spark.sparkContext._jsc is None:\n",
    "        print(\"Spark successfully stopped\")\n",
    "    else:\n",
    "        print(\"Error: Spark is not stopped\")\n",
    "#if the upper part did not work :\n",
    "except AttributeError:\n",
    "    print(\"Spark successfully stopped\")"
   ]
  },
  {
   "cell_type": "code",
   "execution_count": 24,
   "metadata": {},
   "outputs": [],
   "source": [
    "#Borz0 need to sort by type and by name, by price the houses etc \n",
    "#1- ask user for what to sort data with like \"\"\n",
    "#2- check if this parameter exists\n",
    "#3- sort it and shows it\n",
    "#4- create a new file and store this data\n",
    "\n",
    "\n",
    "#another \"part of the programm\" to only store certain data, make graph etc\n"
   ]
  }
 ],
 "metadata": {
  "kernelspec": {
   "display_name": "Python 3",
   "language": "python",
   "name": "python3"
  },
  "language_info": {
   "codemirror_mode": {
    "name": "ipython",
    "version": 3
   },
   "file_extension": ".py",
   "mimetype": "text/x-python",
   "name": "python",
   "nbconvert_exporter": "python",
   "pygments_lexer": "ipython3",
   "version": "3.12.7"
  }
 },
 "nbformat": 4,
 "nbformat_minor": 2
}
