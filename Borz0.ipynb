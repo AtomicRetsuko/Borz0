{
 "cells": [
  {
   "cell_type": "markdown",
   "metadata": {},
   "source": [
    "## Borz0 1.2.0"
   ]
  },
  {
   "cell_type": "markdown",
   "metadata": {},
   "source": [
    "## Initializing :"
   ]
  },
  {
   "cell_type": "code",
   "execution_count": 18,
   "metadata": {},
   "outputs": [
    {
     "name": "stdout",
     "output_type": "stream",
     "text": [
      "Pandas version : 2.2.3\n",
      "PySpark version : 3.5.4\n"
     ]
    }
   ],
   "source": [
    "#Importing the os, Spark in Python 3.12.7 and Checking the Version :\n",
    "import os\n",
    "from IPython.display import clear_output\n",
    "import pandas as Pada\n",
    "import pyspark\n",
    "from pyspark.sql import SparkSession\n",
    "from pyspark.sql.functions import col, desc\n",
    "print(\"Pandas version :\", Pada.__version__)\n",
    "print(\"PySpark version :\", pyspark.__version__)"
   ]
  },
  {
   "cell_type": "markdown",
   "metadata": {},
   "source": [
    "##  Starting Borz0 1.2.0 :"
   ]
  },
  {
   "cell_type": "code",
   "execution_count": 19,
   "metadata": {},
   "outputs": [
    {
     "name": "stdout",
     "output_type": "stream",
     "text": [
      "Spark session created successfully!\n"
     ]
    }
   ],
   "source": [
    "#Build the ETL PipeLine\n",
    "os.environ[\"JAVA_HOME\"] = \"/opt/homebrew/opt/openjdk@11\"\n",
    "\n",
    "spark = SparkSession.builder \\\n",
    "    .appName(\"Simple Test\") \\\n",
    "    .master(\"local[*]\") \\\n",
    "    .getOrCreate()\n",
    "\n",
    "print(\"Spark session created successfully!\")"
   ]
  },
  {
   "cell_type": "markdown",
   "metadata": {},
   "source": [
    "## Load Data :"
   ]
  },
  {
   "cell_type": "code",
   "execution_count": 20,
   "metadata": {},
   "outputs": [
    {
     "name": "stdout",
     "output_type": "stream",
     "text": [
      "BankData.csv exists in the current directory and will be loaded\n"
     ]
    }
   ],
   "source": [
    "#Ask User for the Data they want to use, and then load it after checking it exists:\n",
    "while True:\n",
    "    data_loaded = input(\"Please enter the Data you want to Load : \")\n",
    "    if os.path.isfile(data_loaded):\n",
    "        print(f\"{data_loaded} exists in the current directory and will be loaded\")\n",
    "        break\n",
    "    else:\n",
    "        print(f\"Fatal Error, {data_loaded} does not exist in the directory\")"
   ]
  },
  {
   "cell_type": "code",
   "execution_count": 21,
   "metadata": {},
   "outputs": [
    {
     "name": "stdout",
     "output_type": "stream",
     "text": [
      "+-----+--------+--------------------+-----------+--------------------+-------+---------+-------+---+--------------------+\n",
      "| name|lastname|               email|      phone|             address|balance|credit_nb|     MS| CS|                uuid|\n",
      "+-----+--------+--------------------+-----------+--------------------+-------+---------+-------+---+--------------------+\n",
      "|Bruce|   Wayne|notbatman@gotham.com|        911|1007 Mountain Dri...|  9.0E9|     2581| single|850|d410999a-0a62-400...|\n",
      "| Jack|Torrence|whatsanemail@what...|555-232-531|  Overlook Hotel, CO| 6000.0|        2|married|702|e1626813-e80c-4d8...|\n",
      "+-----+--------+--------------------+-----------+--------------------+-------+---------+-------+---+--------------------+\n",
      "only showing top 2 rows\n",
      "\n"
     ]
    }
   ],
   "source": [
    "#Visualizing the Data\n",
    "file_path = data_loaded\n",
    "howMany_shown = int(input(\"Please enter how many rows you want to display\"))\n",
    "df_spark = spark.read.csv(file_path, header=True, inferSchema=True)\n",
    "df_spark.show(howMany_shown)"
   ]
  },
  {
   "cell_type": "markdown",
   "metadata": {},
   "source": [
    "## Identifying the Parameters"
   ]
  },
  {
   "cell_type": "code",
   "execution_count": 22,
   "metadata": {},
   "outputs": [
    {
     "name": "stdout",
     "output_type": "stream",
     "text": [
      "root\n",
      " |-- name: string (nullable = true)\n",
      " |-- lastname: string (nullable = true)\n",
      " |-- email: string (nullable = true)\n",
      " |-- phone: string (nullable = true)\n",
      " |-- address: string (nullable = true)\n",
      " |-- balance: double (nullable = true)\n",
      " |-- credit_nb: integer (nullable = true)\n",
      " |-- MS: string (nullable = true)\n",
      " |-- CS: integer (nullable = true)\n",
      " |-- uuid: string (nullable = true)\n",
      "\n"
     ]
    }
   ],
   "source": [
    "df_spark.printSchema()"
   ]
  },
  {
   "cell_type": "markdown",
   "metadata": {},
   "source": [
    "## Show With Parameter"
   ]
  },
  {
   "cell_type": "code",
   "execution_count": 23,
   "metadata": {},
   "outputs": [
    {
     "name": "stdout",
     "output_type": "stream",
     "text": [
      "+--------------------+\n",
      "|               email|\n",
      "+--------------------+\n",
      "|notbatman@gotham.com|\n",
      "|whatsanemail@what...|\n",
      "|  Fallout4@gmail.com|\n",
      "|alice.smith@examp...|\n",
      "|bob.brown@example...|\n",
      "|charlie.j@example...|\n",
      "| david.w@example.com|\n",
      "|ella.white@exampl...|\n",
      "|fiona.black@examp...|\n",
      "|george.green@exam...|\n",
      "|hannah.blue@examp...|\n",
      "|isaac.red@example...|\n",
      "|jackie.gold@examp...|\n",
      "|kathy.silver@exam...|\n",
      "|liam.gray@example...|\n",
      "|mona.diamond@exam...|\n",
      "|nina.copper@examp...|\n",
      "|oscar.platinum@ex...|\n",
      "|paula.steel@examp...|\n",
      "|quincy.lead@examp...|\n",
      "+--------------------+\n",
      "only showing top 20 rows\n",
      "\n"
     ]
    }
   ],
   "source": [
    "#Show All Data Related to One Parameter\n",
    "\n",
    "# Load the CSV into PySpark DataFrame\n",
    "df = spark.read.csv(data_loaded, header=True, inferSchema=True)\n",
    "\n",
    "#Asking the User about the Precise Data he wants to search within a certain Paramter\n",
    "f_Param = input(\"Please enter The Parameter you want to sear in :\")\n",
    "\n",
    "#Initializing a GLOBAL Variable to treat the loaded Data like a SQL DataBase\n",
    "df.createOrReplaceTempView(\"GLOBAL\")\n",
    "\n",
    "#Trying to display the Data Via a SQL Query\n",
    "try:\n",
    "    query = f\"SELECT `{f_Param}` FROM GLOBAL\"\n",
    "    spark.sql(query).show()\n",
    "except Exception as e: #saves the exception parameter in e\n",
    "    print(f\"Error executing query: {e}\")\n",
    "\n",
    "\n",
    "\n"
   ]
  },
  {
   "cell_type": "markdown",
   "metadata": {},
   "source": [
    "## Searching via a parameter, a certain Data || Find Duplicates"
   ]
  },
  {
   "cell_type": "code",
   "execution_count": 25,
   "metadata": {},
   "outputs": [
    {
     "name": "stdout",
     "output_type": "stream",
     "text": [
      "+------+--------+--------------------+-----------+--------------------+-------+---------+-------+---+--------------------+\n",
      "|  name|lastname|               email|      phone|             address|balance|credit_nb|     MS| CS|                uuid|\n",
      "+------+--------+--------------------+-----------+--------------------+-------+---------+-------+---+--------------------+\n",
      "| Bruce|   Wayne|notbatman@gotham.com|        911|1007 Mountain Dri...|  9.0E9|     2581| single|850|d410999a-0a62-400...|\n",
      "|Nathan|  Player|  Fallout4@gmail.com|555-233-431|2, Sanctuary Hill...|    0.0|        0|widowed|850|6998d527-b849-484...|\n",
      "+------+--------+--------------------+-----------+--------------------+-------+---------+-------+---+--------------------+\n",
      "\n"
     ]
    }
   ],
   "source": [
    "#Search Algorythm, looking for a certain data like \"SELECT * FROM clients WHERE name = Papatate\"\n",
    "\n",
    "# Load the CSV into PySpark DataFrame\n",
    "df = spark.read.csv(data_loaded, header=True, inferSchema=True)\n",
    "\n",
    "#Asking the User about the Precise Data he wants to search within a certain Paramter\n",
    "f_Param = input(\"Please enter The Parameter you want to sear in :\")\n",
    "f_data = input(f\"Please Enter the data you want to search with the {f_Param} parameter\")\n",
    "\n",
    "#Initializing a GLOBAL Variable to treat the loaded Data like a SQL DataBase\n",
    "df.createOrReplaceTempView(\"GLOBAL\")\n",
    "\n",
    "#Try to Display the precise Data We're Looking for, as you can see, it also works to find Duplicates\n",
    "try:\n",
    "    query = f\"SELECT * FROM GLOBAL WHERE `{f_Param}` = '{f_data}'\"\n",
    "    spark.sql(query).show()\n",
    "except Exception as e: #saves the exception parameter in e\n",
    "    print(f\"Error executing query: {e}\")"
   ]
  },
  {
   "cell_type": "markdown",
   "metadata": {},
   "source": [
    "## Ordering Data with Parameter :"
   ]
  },
  {
   "cell_type": "code",
   "execution_count": 26,
   "metadata": {},
   "outputs": [
    {
     "name": "stdout",
     "output_type": "stream",
     "text": [
      "Data sorted by using CS as the reference\n",
      "+-------+--------+--------------------+-----------+--------------------+-------+---------+-------+---+--------------------+\n",
      "|   name|lastname|               email|      phone|             address|balance|credit_nb|     MS| CS|                uuid|\n",
      "+-------+--------+--------------------+-----------+--------------------+-------+---------+-------+---+--------------------+\n",
      "|  Bruce|   Wayne|notbatman@gotham.com|        911|1007 Mountain Dri...|  9.0E9|     2581| single|850|d410999a-0a62-400...|\n",
      "| Nathan|  Player|  Fallout4@gmail.com|555-233-431|2, Sanctuary Hill...|    0.0|        0|widowed|850|6998d527-b849-484...|\n",
      "|Charlie| Johnson|charlie.j@example...|555-234-569|789 Pine St, Spri...| 5000.0|        1| single|800|66f666a0-5326-424...|\n",
      "| Victor|  Nickel|victor.nickel@exa...|555-234-588|123 Maple Circle,...| 8000.0|        1| single|800|03055554-6745-458...|\n",
      "|   Yara|Aluminum|yara.aluminum@exa...|555-234-591|135 Cedar Circle,...| 6500.0|        1| single|790|12874380-7402-425...|\n",
      "|   Mona| Diamond|mona.diamond@exam...|555-234-579|456 Spruce Ave, S...| 7000.0|        1| single|780|b2093232-078f-457...|\n",
      "| Ursula|    Iron|ursula.iron@examp...|555-234-587|791 Elm Lane, Spr...| 7500.0|        0|widowed|780|22229075-0004-458...|\n",
      "|   Xena|  Bronze|xena.bronze@examp...|555-234-590|789 Pine Circle, ...| 9000.0|        2|widowed|780|01472126-0851-433...|\n",
      "|   Nina|  Copper|nina.copper@examp...|555-234-580|789 Birch Ave, Sp...| 3500.0|        3|married|765|44335456-218a-460...|\n",
      "| Hannah|    Blue|hannah.blue@examp...|555-234-574|579 Elm St, Sprin...| 2500.0|        3| single|760|01f56176-855d-469...|\n",
      "| Quincy|    Lead|quincy.lead@examp...|555-234-583|357 Pine Lane, Sp...| 5500.0|        0|married|755|23548333-738b-471...|\n",
      "|   Zane|  Copper|zane.copper@examp...|555-234-592|246 Birch Circle,...| 4000.0|        0|married|750|72143154-5770-402...|\n",
      "|   Liam|    Gray|liam.gray@example...|555-234-578|123 Ash St, Sprin...| 6000.0|        0|widowed|740|83947444-4449-48e...|\n",
      "|  Paula|   Steel|paula.steel@examp...|555-234-582|246 Oak Lane, Spr...| 5000.0|        2| single|740|b6357830-3013-404...|\n",
      "|  Wendy|   Brass|wendy.brass@examp...|555-234-589|456 Oak Circle, S...| 5000.0|        3|married|740|35850232-3253-467...|\n",
      "|  Isaac|     Red|isaac.red@example...|555-234-575|680 Maple St, Spr...| 4500.0|        2|married|730|27e01732-d153-418...|\n",
      "|  Steve|     Tin|steve.tin@example...|555-234-585|579 Fir Lane, Spr...| 6500.0|        2| single|730|56082282-2260-456...|\n",
      "|    Bob|   Brown|bob.brown@example...|555-234-568|456 Oak St, Sprin...| 1500.0|        3|married|720|20902210-911d-48a...|\n",
      "| George|   Green|george.green@exam...|555-234-573|468 Spruce St, Sp...| 2000.0|        1|widowed|720|9c362003-05f6-475...|\n",
      "|  Oscar|Platinum|oscar.platinum@ex...|555-234-581|135 Maple Lane, S...| 4000.0|        1|widowed|720|32265086-4510-442...|\n",
      "|   Ella|   White|ella.white@exampl...|555-234-571|246 Cedar St, Spr...| 4000.0|        1| single|710|56523457-07f5-458...|\n",
      "|  Kathy|  Silver|kathy.silver@exam...|555-234-577|902 Pine Ave, Spr...| 5500.0|        2|married|710|4e20840f-02a5-423...|\n",
      "|   Tina|    Zinc|tina.zinc@example...|555-234-586|680 Spruce Lane, ...| 3000.0|        1|married|710|20740033-3012-472...|\n",
      "|   Jack|Torrence|whatsanemail@what...|555-232-531|  Overlook Hotel, CO| 6000.0|        2|married|702|e1626813-e80c-4d8...|\n",
      "|  Alice|   Smith|alice.smith@examp...|555-234-567|123 Maple Ave, Sp...| 3000.0|        1| single|700|194702a3-101e-461...|\n",
      "|   Rita|  Cobalt|rita.cobalt@examp...|555-234-584|468 Cedar Lane, S...| 2000.0|        1|widowed|700|72128814-7094-468...|\n",
      "|  Fiona|   Black|fiona.black@examp...|555-234-572|357 Fir St, Sprin...| 3500.0|        2|married|690|02a5509d-364b-4d9...|\n",
      "| Jackie|    Gold|jackie.gold@examp...|555-234-576|791 Oak Ave, Spri...| 3000.0|        1| single|680|37228320-562e-462...|\n",
      "|  David|  Wilson| david.w@example.com|555-234-570|135 Birch St, Spr...| 2500.0|        2|married|675|34903734-7038-43a...|\n",
      "+-------+--------+--------------------+-----------+--------------------+-------+---------+-------+---+--------------------+\n",
      "\n"
     ]
    }
   ],
   "source": [
    "#Order Data With a parametter\n",
    "\n",
    "#First, check if the parameter exists in the current Database\n",
    "while True:\n",
    "    parameter = input(\"Please enter the Parameter to use for Sorting the Data\")\n",
    "    clear_output(wait=True)\n",
    "    if parameter in df_spark.columns:\n",
    "        break\n",
    "    else:\n",
    "        print(\"Error, this parameter doesnt exist in the current csv file\")\n",
    "\n",
    "#Asking the User how many rows they want to display\n",
    "howMany_shown = int(input(\"Please enter how many rows you want to display\"))\n",
    "\n",
    "#Choosing if the user wants to use desc or asc to determine the order of the Data used as a point of reference\n",
    "while True:\n",
    "    param2 = input(\"Do you want to start with the asc (type = asc) or the biggest (type = desc)\")\n",
    "    clear_output(wait=True)\n",
    "    if param2 == \"asc\":\n",
    "        sorted_df = df_spark.orderBy(parameter)\n",
    "        break\n",
    "    elif param2 == \"desc\":\n",
    "        sorted_df = df_spark.orderBy(desc(parameter))\n",
    "        break\n",
    "    else:\n",
    "        print(\"Error, please enter desc or asc\")\n",
    "\n",
    "#indicating which parameter that has been used to clarify the graph\n",
    "print(f\"Data sorted by using {parameter} as the reference\")\n",
    "sorted_df.show(howMany_shown)"
   ]
  },
  {
   "cell_type": "markdown",
   "metadata": {},
   "source": [
    "## Create a folder and Store the Data into it :"
   ]
  },
  {
   "cell_type": "code",
   "execution_count": null,
   "metadata": {},
   "outputs": [],
   "source": [
    "#Creating the file and naming it\n",
    "fldr_name = input(\"Please enter a name for the Folder\")\n",
    "sorted_df.coalesce(1).write.csv(fldr_name, header=False, mode='overwrite')\n"
   ]
  },
  {
   "cell_type": "markdown",
   "metadata": {},
   "source": [
    "## Stopping Borz0 :"
   ]
  },
  {
   "cell_type": "code",
   "execution_count": 27,
   "metadata": {},
   "outputs": [
    {
     "name": "stdout",
     "output_type": "stream",
     "text": [
      "Spark successfully stopped\n"
     ]
    }
   ],
   "source": [
    "#Stopping the ETL Pipeline to release memory and ressources\n",
    "spark.stop()\n",
    "#Checking if Spark is stoppped\n",
    "try:\n",
    "    if spark.sparkContext._jsc is None:\n",
    "        print(\"Spark successfully stopped\")\n",
    "    else:\n",
    "        print(\"Error: Spark is not stopped\")\n",
    "#if the upper part did not work :\n",
    "except AttributeError:\n",
    "    print(\"Spark successfully stopped\")"
   ]
  }
 ],
 "metadata": {
  "kernelspec": {
   "display_name": "Python 3",
   "language": "python",
   "name": "python3"
  },
  "language_info": {
   "codemirror_mode": {
    "name": "ipython",
    "version": 3
   },
   "file_extension": ".py",
   "mimetype": "text/x-python",
   "name": "python",
   "nbconvert_exporter": "python",
   "pygments_lexer": "ipython3",
   "version": "3.12.7"
  }
 },
 "nbformat": 4,
 "nbformat_minor": 2
}
