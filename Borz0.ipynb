{
 "cells": [
  {
   "cell_type": "markdown",
   "metadata": {},
   "source": [
    "## Borz0 1.2.0"
   ]
  },
  {
   "cell_type": "markdown",
   "metadata": {},
   "source": [
    "## Initializing :"
   ]
  },
  {
   "cell_type": "code",
   "execution_count": 5,
   "metadata": {},
   "outputs": [
    {
     "name": "stdout",
     "output_type": "stream",
     "text": [
      "IPython version : 8.32.0\n",
      "Pandas version : 2.2.3\n",
      "PySpark version : 3.5.4\n"
     ]
    }
   ],
   "source": [
    "#Importing the os, Spark in Python 3.12.7 and Checking the Version :\n",
    "import os\n",
    "from IPython.display import clear_output\n",
    "import pandas as Pada\n",
    "import pyspark\n",
    "import IPython\n",
    "from pyspark.sql import SparkSession\n",
    "from pyspark.sql.functions import col, desc\n",
    "print(\"IPython version :\", IPython.__version__)\n",
    "print(\"Pandas version :\", Pada.__version__)\n",
    "print(\"PySpark version :\", pyspark.__version__)"
   ]
  },
  {
   "cell_type": "markdown",
   "metadata": {},
   "source": [
    "##  Starting Borz0 1.2.0 :"
   ]
  },
  {
   "cell_type": "code",
   "execution_count": 2,
   "metadata": {},
   "outputs": [
    {
     "name": "stderr",
     "output_type": "stream",
     "text": [
      "25/02/27 10:45:59 WARN Utils: Your hostname, Juless-MacBook-Pro.local resolves to a loopback address: 127.0.0.1; using 10.118.7.34 instead (on interface en0)\n",
      "25/02/27 10:45:59 WARN Utils: Set SPARK_LOCAL_IP if you need to bind to another address\n",
      "Setting default log level to \"WARN\".\n",
      "To adjust logging level use sc.setLogLevel(newLevel). For SparkR, use setLogLevel(newLevel).\n",
      "25/02/27 10:45:59 WARN NativeCodeLoader: Unable to load native-hadoop library for your platform... using builtin-java classes where applicable\n"
     ]
    },
    {
     "name": "stdout",
     "output_type": "stream",
     "text": [
      "Spark session created successfully!\n"
     ]
    }
   ],
   "source": [
    "#Build the ETL PipeLine\n",
    "os.environ[\"JAVA_HOME\"] = \"/opt/homebrew/opt/openjdk@11\"\n",
    "\n",
    "spark = SparkSession.builder \\\n",
    "    .appName(\"Simple Test\") \\\n",
    "    .master(\"local[*]\") \\\n",
    "    .getOrCreate()\n",
    "\n",
    "print(\"Spark session created successfully!\")"
   ]
  },
  {
   "cell_type": "markdown",
   "metadata": {},
   "source": [
    "## Load Data :"
   ]
  },
  {
   "cell_type": "code",
   "execution_count": 3,
   "metadata": {},
   "outputs": [
    {
     "ename": "NameError",
     "evalue": "name 'os' is not defined",
     "output_type": "error",
     "traceback": [
      "\u001b[0;31m---------------------------------------------------------------------------\u001b[0m",
      "\u001b[0;31mNameError\u001b[0m                                 Traceback (most recent call last)",
      "Cell \u001b[0;32mIn[3], line 4\u001b[0m\n\u001b[1;32m      2\u001b[0m \u001b[38;5;28;01mwhile\u001b[39;00m \u001b[38;5;28;01mTrue\u001b[39;00m:\n\u001b[1;32m      3\u001b[0m     data_loaded \u001b[38;5;241m=\u001b[39m \u001b[38;5;28minput\u001b[39m(\u001b[38;5;124m\"\u001b[39m\u001b[38;5;124mPlease enter the Data you want to Load : \u001b[39m\u001b[38;5;124m\"\u001b[39m)\n\u001b[0;32m----> 4\u001b[0m     \u001b[38;5;28;01mif\u001b[39;00m \u001b[43mos\u001b[49m\u001b[38;5;241m.\u001b[39mpath\u001b[38;5;241m.\u001b[39misfile(data_loaded):\n\u001b[1;32m      5\u001b[0m         \u001b[38;5;28mprint\u001b[39m(\u001b[38;5;124mf\u001b[39m\u001b[38;5;124m\"\u001b[39m\u001b[38;5;132;01m{\u001b[39;00mdata_loaded\u001b[38;5;132;01m}\u001b[39;00m\u001b[38;5;124m exists in the current directory and will be loaded\u001b[39m\u001b[38;5;124m\"\u001b[39m)\n\u001b[1;32m      6\u001b[0m         \u001b[38;5;28;01mbreak\u001b[39;00m\n",
      "\u001b[0;31mNameError\u001b[0m: name 'os' is not defined"
     ]
    }
   ],
   "source": [
    "#Ask User for the Data they want to use, and then load it after checking it exists:\n",
    "while True:\n",
    "    data_loaded = input(\"Please enter the Data you want to Load : \")\n",
    "    if os.path.isfile(data_loaded):\n",
    "        print(f\"{data_loaded} exists in the current directory and will be loaded\")\n",
    "        break\n",
    "    else:\n",
    "        print(f\"Fatal Error, {data_loaded} does not exist in the directory\")"
   ]
  },
  {
   "cell_type": "code",
   "execution_count": 4,
   "metadata": {},
   "outputs": [
    {
     "name": "stdout",
     "output_type": "stream",
     "text": [
      "+--------+---------+---------------------------+------------+---------------------------------------+--------+----------+--------+---+\n",
      "|name    |lastname |email                      |phone       |address                                |balance |credit_nb |MS      | CS|\n",
      "+--------+---------+---------------------------+------------+---------------------------------------+--------+----------+--------+---+\n",
      "|Bruce   |Wayne    |       notbatman@gotham....|911         |                   1007 Mountain Dri...|   9.0E9|    2581.0|single  |850|\n",
      "|Jack    |Torrence |       whatsanemail@what...|555-232-531 |                     Overlook Hotel, CO|  6000.0|       2.0|married |702|\n",
      "|Nathan  |Player   |       Fallout4@gmail.co...|555-233-431 |                   2, Sanctuary Hill...|     0.0|       0.0|widowed |850|\n",
      "|Alice   |Smith    |       alice.smith@examp...|555-234-567 |                   123 Maple Ave, Sp...|  3000.0|       1.0|single  |700|\n",
      "|Bob     |Brown    |       bob.brown@example...|555-234-568 |                   456 Oak St, Sprin...|  1500.0|       3.0|married |720|\n",
      "|Charlie |Johnson  |       charlie.j@example...|555-234-569 |                   789 Pine St, Spri...|  5000.0|       1.0|single  |800|\n",
      "|David   |Wilson   |       david.w@example.c...|555-234-570 |                   135 Birch St, Spr...|  2500.0|       2.0|married |675|\n",
      "|Ella    |White    |       ella.white@exampl...|555-234-571 |                   246 Cedar St, Spr...|  4000.0|       1.0|single  |710|\n",
      "|Fiona   |Black    |       fiona.black@examp...|555-234-572 |                   357 Fir St, Sprin...|  3500.0|       2.0|married |690|\n",
      "|George  |Green    |       george.green@exam...|555-234-573 |                   468 Spruce St, Sp...|  2000.0|       1.0|widowed |720|\n",
      "+--------+---------+---------------------------+------------+---------------------------------------+--------+----------+--------+---+\n",
      "only showing top 10 rows\n",
      "\n"
     ]
    }
   ],
   "source": [
    "#Visualizing the Data\n",
    "file_path = data_loaded\n",
    "howMany_shown = int(input(\"Please enter how many rows you want to display\"))\n",
    "df_spark = spark.read.csv(file_path, header=True, inferSchema=True)\n",
    "df_spark.show(howMany_shown)"
   ]
  },
  {
   "cell_type": "markdown",
   "metadata": {},
   "source": [
    "## Identifying the Parameters"
   ]
  },
  {
   "cell_type": "code",
   "execution_count": 5,
   "metadata": {},
   "outputs": [
    {
     "name": "stdout",
     "output_type": "stream",
     "text": [
      "root\n",
      " |-- name    : string (nullable = true)\n",
      " |-- lastname : string (nullable = true)\n",
      " |-- email                      : string (nullable = true)\n",
      " |-- phone       : string (nullable = true)\n",
      " |-- address                                : string (nullable = true)\n",
      " |-- balance : double (nullable = true)\n",
      " |-- credit_nb : double (nullable = true)\n",
      " |-- MS      : string (nullable = true)\n",
      " |-- CS: integer (nullable = true)\n",
      "\n"
     ]
    }
   ],
   "source": [
    "df_spark.printSchema()"
   ]
  },
  {
   "cell_type": "markdown",
   "metadata": {},
   "source": [
    "## Ordering Data with Parameter :"
   ]
  },
  {
   "cell_type": "code",
   "execution_count": 2,
   "metadata": {},
   "outputs": [
    {
     "ename": "NameError",
     "evalue": "name 'clear_output' is not defined",
     "output_type": "error",
     "traceback": [
      "\u001b[0;31m---------------------------------------------------------------------------\u001b[0m",
      "\u001b[0;31mNameError\u001b[0m                                 Traceback (most recent call last)",
      "Cell \u001b[0;32mIn[2], line 4\u001b[0m\n\u001b[1;32m      2\u001b[0m \u001b[38;5;28;01mwhile\u001b[39;00m \u001b[38;5;28;01mTrue\u001b[39;00m:\n\u001b[1;32m      3\u001b[0m     parameter \u001b[38;5;241m=\u001b[39m \u001b[38;5;28minput\u001b[39m(\u001b[38;5;124m\"\u001b[39m\u001b[38;5;124mPlease enter the Parameter to use for Sorting the Data\u001b[39m\u001b[38;5;124m\"\u001b[39m)\n\u001b[0;32m----> 4\u001b[0m     \u001b[43mclear_output\u001b[49m(wait\u001b[38;5;241m=\u001b[39m\u001b[38;5;28;01mTrue\u001b[39;00m)\n\u001b[1;32m      5\u001b[0m     \u001b[38;5;28;01mif\u001b[39;00m parameter \u001b[38;5;129;01min\u001b[39;00m df_spark\u001b[38;5;241m.\u001b[39mcolumns:\n\u001b[1;32m      6\u001b[0m         \u001b[38;5;28;01mbreak\u001b[39;00m\n",
      "\u001b[0;31mNameError\u001b[0m: name 'clear_output' is not defined"
     ]
    }
   ],
   "source": [
    "#Order Data With a parametter\n",
    "while True:\n",
    "    parameter = input(\"Please enter the Parameter to use for Sorting the Data\")\n",
    "    clear_output(wait=True)\n",
    "    if parameter in df_spark.columns:\n",
    "        break\n",
    "    else:\n",
    "        print(\"Error, this parameter doesnt exist in\")\n",
    "\n",
    "howMany_shown = int(input(\"Please enter how many rows you want to display\"))\n",
    "sorted_df = df_spark.orderBy(desc(parameter))\n",
    "print(f\"Data sorted by using {parameter} as the reference\")\n",
    "if parameter not in df_spark.columns:\n",
    "    raise ValueError(f\"Column '{parameter}' does not exist in the DataFrame.\")\n",
    "sorted_df.show(howMany_shown)"
   ]
  },
  {
   "cell_type": "markdown",
   "metadata": {},
   "source": [
    "## Create a folder and Store the Data into it :"
   ]
  },
  {
   "cell_type": "code",
   "execution_count": null,
   "metadata": {},
   "outputs": [],
   "source": [
    "#Creating the file and naming it\n",
    "fldr_name = input(\"Please enter a name for the Folder\")\n",
    "sorted_df.coalesce(1).write.csv(fldr_name, header=False, mode='overwrite')\n"
   ]
  },
  {
   "cell_type": "markdown",
   "metadata": {},
   "source": [
    "## Stopping Borz0 :"
   ]
  },
  {
   "cell_type": "code",
   "execution_count": 6,
   "metadata": {},
   "outputs": [
    {
     "ename": "NameError",
     "evalue": "name 'spark' is not defined",
     "output_type": "error",
     "traceback": [
      "\u001b[0;31m---------------------------------------------------------------------------\u001b[0m",
      "\u001b[0;31mNameError\u001b[0m                                 Traceback (most recent call last)",
      "Cell \u001b[0;32mIn[6], line 2\u001b[0m\n\u001b[1;32m      1\u001b[0m \u001b[38;5;66;03m#Stopping the ETL Pipeline to release memory and ressources\u001b[39;00m\n\u001b[0;32m----> 2\u001b[0m \u001b[43mspark\u001b[49m\u001b[38;5;241m.\u001b[39mstop()\n\u001b[1;32m      3\u001b[0m \u001b[38;5;66;03m#Checking if Spark is stoppped\u001b[39;00m\n\u001b[1;32m      4\u001b[0m \u001b[38;5;28;01mtry\u001b[39;00m:\n",
      "\u001b[0;31mNameError\u001b[0m: name 'spark' is not defined"
     ]
    }
   ],
   "source": [
    "#Stopping the ETL Pipeline to release memory and ressources\n",
    "spark.stop()\n",
    "#Checking if Spark is stoppped\n",
    "try:\n",
    "    if spark.sparkContext._jsc is None:\n",
    "        print(\"Spark successfully stopped\")\n",
    "    else:\n",
    "        print(\"Error: Spark is not stopped\")\n",
    "#if the upper part did not work :\n",
    "except AttributeError:\n",
    "    print(\"Spark successfully stopped\")"
   ]
  }
 ],
 "metadata": {
  "kernelspec": {
   "display_name": "Python 3",
   "language": "python",
   "name": "python3"
  },
  "language_info": {
   "codemirror_mode": {
    "name": "ipython",
    "version": 3
   },
   "file_extension": ".py",
   "mimetype": "text/x-python",
   "name": "python",
   "nbconvert_exporter": "python",
   "pygments_lexer": "ipython3",
   "version": "3.12.7"
  }
 },
 "nbformat": 4,
 "nbformat_minor": 2
}
